{
 "cells": [
  {
   "cell_type": "markdown",
   "metadata": {},
   "source": [
    "# Quantum Computing with Python\n",
    "\n",
    "Quantum computing is an emerging field that has the potential to\n",
    "revolutionize computer science and change the way we think about\n",
    "computation. In this notebook, we will explore the fundamentals of\n",
    "quantum computing and how to program quantum computers using Python.\n",
    "\n",
    "## Introduction to Quantum Computing\n",
    "\n",
    "Before diving into programming quantum computers, it’s important to\n",
    "understand the fundamental principles and concepts of quantum computing.\n",
    "\n",
    "### Quantum Bits (Qubits)\n",
    "\n",
    "Qubits are the building blocks of quantum computers and are analogous to\n",
    "classical bits (0 and 1). However, qubits can exist in a superposition\n",
    "of states, meaning they can represent multiple values simultaneously.\n",
    "\n",
    "In Python, we can represent qubits using the `qiskit` library:"
   ],
   "id": "0ecd64bb-b453-4094-8442-5b326f83f929"
  },
  {
   "cell_type": "code",
   "execution_count": null,
   "metadata": {},
   "outputs": [],
   "source": [
    "from qiskit import QuantumCircuit, QuantumRegister\n",
    "\n",
    "# create a quantum register with 1 qubit\n",
    "q = QuantumRegister(1)\n",
    "\n",
    "# create a quantum circuit with the quantum register\n",
    "qc = QuantumCircuit(q)"
   ],
   "id": "1d58d225-a3eb-4e63-a833-9d0e36b0bbb4"
  },
  {
   "cell_type": "markdown",
   "metadata": {},
   "source": [
    "### Quantum Gates\n",
    "\n",
    "Quantum gates are operations that can be applied to qubits to manipulate\n",
    "their state. Just like classical logic gates (AND, OR, NOT, etc.),\n",
    "quantum gates perform specific operations on qubits.\n",
    "\n",
    "One example of a quantum gate is the Hadamard gate, which puts a qubit\n",
    "into a superposition of states:"
   ],
   "id": "268a4e55-6f43-4128-949a-5be385ad8c0d"
  },
  {
   "cell_type": "code",
   "execution_count": null,
   "metadata": {},
   "outputs": [],
   "source": [
    "from qiskit.extensions import Initialize\n",
    "\n",
    "# apply the Hadamard gate to the qubit\n",
    "qc.h(q[0])"
   ],
   "id": "f2d4949c-64bd-4921-b1e6-fb0cdc382bbd"
  },
  {
   "cell_type": "markdown",
   "metadata": {},
   "source": [
    "### Quantum Circuits\n",
    "\n",
    "Quantum circuits are the equivalent of classical circuits in quantum\n",
    "computing. They consist of a series of quantum gates applied to qubits\n",
    "to perform computations.\n",
    "\n",
    "Here’s an example quantum circuit that applies the Hadamard gate to a\n",
    "qubit, measures the state of the qubit, and outputs the result:"
   ],
   "id": "b5c4173c-6c02-44b2-ae7f-2e6d80e21ca9"
  },
  {
   "cell_type": "code",
   "execution_count": null,
   "metadata": {},
   "outputs": [],
   "source": [
    "from qiskit import ClassicalRegister\n",
    "\n",
    "# create a classical register to store the measurement results\n",
    "c = ClassicalRegister(1)\n",
    "\n",
    "# add a measurement operation to the quantum circuit\n",
    "qc.measure(q, c)\n",
    "\n",
    "# execute the quantum circuit on a quantum computer or simulator\n",
    "result = execute(qc).result()\n",
    "\n",
    "# get the measurement result\n",
    "counts = result.get_counts(qc)"
   ],
   "id": "9369527c-f454-46b0-af77-4cf6a9f4ea45"
  },
  {
   "cell_type": "markdown",
   "metadata": {},
   "source": [
    "## Quantum Algorithms\n",
    "\n",
    "Now that we have a basic understanding of quantum computing and how to\n",
    "program quantum circuits in Python, let’s explore some quantum\n",
    "algorithms.\n",
    "\n",
    "### Deutsch-Jozsa Algorithm\n",
    "\n",
    "The Deutsch-Jozsa algorithm is a quantum algorithm that can determine\n",
    "whether a function is constant or balanced. In classical computing, this\n",
    "requires evaluating the function on all possible inputs, but the\n",
    "Deutsch-Jozsa algorithm can determine the result with a single query to\n",
    "the function.\n",
    "\n",
    "Here’s an example implementation of the Deutsch-Jozsa algorithm in\n",
    "Python:"
   ],
   "id": "81c17261-1454-4edb-81f0-3a79bc8e99c9"
  },
  {
   "cell_type": "code",
   "execution_count": null,
   "metadata": {},
   "outputs": [],
   "source": [
    "from qiskit import execute, Aer\n",
    "from qiskit.circuit.library import DeutschJozsa\n",
    "\n",
    "# define a balanced function\n",
    "def balanced(x):\n",
    "    return 1 if x % 2 == 0 else 0\n",
    "\n",
    "# create a quantum circuit to implement the Deutsch-Jozsa algorithm\n",
    "circuit = DeutschJozsa(balanced, 1)\n",
    "\n",
    "# execute the circuit on a quantum simulator\n",
    "counts = execute(circuit, Aer.get_backend('qasm_simulator')).result().get_counts()\n",
    "print(counts)"
   ],
   "id": "a6892b79-4bcb-4913-957d-0b467a561d44"
  },
  {
   "cell_type": "markdown",
   "metadata": {},
   "source": [
    "### Grover’s Algorithm\n",
    "\n",
    "Grover’s algorithm is a quantum algorithm that can search an unsorted\n",
    "database of N items in O(sqrt(N)) time. In classical computing, this\n",
    "requires O(N) time, making Grover’s algorithm exponentially faster for\n",
    "large N.\n",
    "\n",
    "Here’s an example implementation of Grover’s algorithm in Python:"
   ],
   "id": "52d04e72-3700-4096-88e8-d7b846884952"
  },
  {
   "cell_type": "code",
   "execution_count": null,
   "metadata": {},
   "outputs": [],
   "source": [
    "from qiskit import execute, Aer\n",
    "from qiskit.circuit.library import GroverOperator\n",
    "\n",
    "# define a list of integers to search\n",
    "integers = [0, 3, 5, 7, 25, 34, 46, 67, 89]\n",
    "\n",
    "# create a quantum circuit to implement Grover's algorithm\n",
    "circuit = GroverOperator(len(integers), marked=[0], oracle=None)\n",
    "\n",
    "# execute the circuit on a quantum simulator\n",
    "counts = execute(circuit, Aer.get_backend('qasm_simulator')).result().get_counts()\n",
    "print(counts)"
   ],
   "id": "7a2618d1-f085-4363-977c-0b10485646db"
  },
  {
   "cell_type": "markdown",
   "metadata": {},
   "source": [
    "## Conclusion\n",
    "\n",
    "In this notebook, we explored the fundamentals of quantum computing and\n",
    "how to program quantum computers using Python. We also explored two\n",
    "quantum algorithms, the Deutsch-Jozsa algorithm and Grover’s algorithm,\n",
    "and saw how they can be implemented using the `qiskit` library. As\n",
    "quantum computing continues to evolve, it will be exciting to see what\n",
    "future advancements and applications are possible."
   ],
   "id": "2be855a1-53a7-4a97-8f92-b77811254ddd"
  }
 ],
 "nbformat": 4,
 "nbformat_minor": 5,
 "metadata": {}
}
